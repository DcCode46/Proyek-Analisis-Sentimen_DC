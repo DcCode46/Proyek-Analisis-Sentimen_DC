{
  "nbformat": 4,
  "nbformat_minor": 0,
  "metadata": {
    "colab": {
      "provenance": []
    },
    "kernelspec": {
      "name": "python3",
      "display_name": "Python 3"
    },
    "language_info": {
      "name": "python"
    }
  },
  "cells": [
    {
      "cell_type": "code",
      "source": [
        "pip install google-play-scraper"
      ],
      "metadata": {
        "colab": {
          "base_uri": "https://localhost:8080/"
        },
        "id": "skFfMmeqMCU-",
        "outputId": "9ae2ddd1-f07d-4f86-b647-2f1207199fce"
      },
      "execution_count": null,
      "outputs": [
        {
          "output_type": "stream",
          "name": "stdout",
          "text": [
            "Collecting google-play-scraper\n",
            "  Downloading google_play_scraper-1.2.7-py3-none-any.whl.metadata (50 kB)\n",
            "\u001b[?25l     \u001b[90m━━━━━━━━━━━━━━━━━━━━━━━━━━━━━━━━━━━━━━━━\u001b[0m \u001b[32m0.0/50.2 kB\u001b[0m \u001b[31m?\u001b[0m eta \u001b[36m-:--:--\u001b[0m\r\u001b[2K     \u001b[90m━━━━━━━━━━━━━━━━━━━━━━━━━━━━━━━━━━━━━━━━\u001b[0m \u001b[32m50.2/50.2 kB\u001b[0m \u001b[31m3.7 MB/s\u001b[0m eta \u001b[36m0:00:00\u001b[0m\n",
            "\u001b[?25hDownloading google_play_scraper-1.2.7-py3-none-any.whl (28 kB)\n",
            "Installing collected packages: google-play-scraper\n",
            "Successfully installed google-play-scraper-1.2.7\n"
          ]
        }
      ]
    },
    {
      "cell_type": "code",
      "source": [
        "from google_play_scraper import Sort, reviews\n",
        "import pandas as pd\n",
        "\n",
        "# Ganti dengan ID aplikasi yang ingin kamu ambil review-nya (contoh: blockblast)\n",
        "app_id = 'com.block.juggle'\n",
        "\n",
        "# Ambil review (jumlah review bisa diatur)\n",
        "result, _ = reviews(\n",
        "    app_id,\n",
        "    lang='id',         # Bahasa Indonesia\n",
        "    country='id',      # Negara Indonesia\n",
        "    sort=Sort.NEWEST,  # Urutkan dari yang terbaru\n",
        "    count=10000          # Jumlah review yang diambil\n",
        ")\n",
        "\n",
        "# Ubah ke DataFrame\n",
        "df = pd.DataFrame(result)\n",
        "\n",
        "# Tampilkan 5 review pertama\n",
        "print(df[['userName', 'score', 'content']].head())\n",
        "\n",
        "# Simpan ke file CSV\n",
        "df.to_csv(f\"{app_id}_reviews.csv\", index=False, encoding='utf-8-sig')\n"
      ],
      "metadata": {
        "colab": {
          "base_uri": "https://localhost:8080/"
        },
        "id": "rzaY6z1bKGrp",
        "outputId": "6f05ff51-ba98-4644-e490-df299f6cb04f"
      },
      "execution_count": null,
      "outputs": [
        {
          "output_type": "stream",
          "name": "stdout",
          "text": [
            "          userName  score                                            content\n",
            "0  Pengguna Google      1                                               good\n",
            "1  Pengguna Google      5  sangat seru permainan ini sangat cocok kalo la...\n",
            "2  Pengguna Google      5                      game nya seru kalo lagi gabut\n",
            "3  Pengguna Google      5                                      bagus sekalii\n",
            "4  Pengguna Google      4  saran aku kasih efek rainbow aja kaya yng di i...\n"
          ]
        }
      ]
    }
  ]
}